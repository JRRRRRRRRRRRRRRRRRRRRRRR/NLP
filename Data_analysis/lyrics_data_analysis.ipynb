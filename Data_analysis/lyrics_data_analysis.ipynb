{
 "cells": [
  {
   "cell_type": "code",
   "execution_count": null,
   "metadata": {},
   "outputs": [],
   "source": [
    "import torch\n",
    "from sklearn.decomposition import PCA\n",
    "import matplotlib.pyplot as plt\n",
    "import json\n",
    "from wordcloud import WordCloud\n",
    "import numpy as np\n"
   ]
  },
  {
   "cell_type": "markdown",
   "metadata": {},
   "source": [
    "Embeddings PCA scaling"
   ]
  },
  {
   "cell_type": "code",
   "execution_count": null,
   "metadata": {},
   "outputs": [],
   "source": [
    "tensor = torch.load('lyrics_embeddings.pt')\n",
    "numpy_array = tensor.numpy()\n",
    "pca = PCA(n_components=2)\n",
    "pca.fit(numpy_array)\n",
    "transformed_data = pca.transform(numpy_array)\n",
    "transformed_tensor = torch.from_numpy(transformed_data)\n",
    "\n",
    "print(tensor.shape)\n",
    "plt.figure(figsize=(8, 6))\n",
    "plt.scatter(transformed_tensor[:, 0], transformed_tensor[:, 1], alpha=0.8)\n",
    "plt.title('PCA - Two Dimensional Plot')\n",
    "plt.xlabel('Principal Component 1')\n",
    "plt.ylabel('Principal Component 2')\n",
    "plt.grid(True)\n",
    "plt.show()"
   ]
  },
  {
   "cell_type": "code",
   "execution_count": null,
   "metadata": {},
   "outputs": [],
   "source": [
    "Sentiment Analysis"
   ]
  },
  {
   "cell_type": "code",
   "execution_count": null,
   "metadata": {},
   "outputs": [],
   "source": [
    "with open('sentiment_topics.json', 'r') as file:\n",
    "    data = json.load(file)\n",
    "\n",
    "score_count = {}\n",
    "for entry in data:\n",
    "    sentiment_score = entry.get('sentiment_score')\n",
    "    if isinstance(sentiment_score, float):\n",
    "        if sentiment_score in score_count:\n",
    "            score_count[sentiment_score] += 1\n",
    "        else:\n",
    "            score_count[sentiment_score] = 1\n",
    "\n",
    "scores = list(score_count.keys())\n",
    "counts = list(score_count.values())\n",
    "\n",
    "colors = ['red', 'blue', 'green', 'orange', 'purple', 'cyan', 'magenta', 'yellow', 'lime', 'indigo']\n",
    "\n",
    "plt.figure(figsize=(8, 6))\n",
    "bars = plt.bar(scores, counts, color=colors, width=0.15)\n",
    "plt.xlabel('Sentiment Scores', fontsize=14)\n",
    "plt.ylabel('Counts', fontsize=14)\n",
    "plt.title('Sentiment Scores Distribution', fontsize=16)\n",
    "plt.xticks(np.arange(min(scores), max(scores) + 1/2, step=1/2))\n",
    "plt.grid(axis='y', linestyle='--', alpha=0.5)\n",
    "\n",
    "plt.gca().xaxis.set_major_formatter(plt.FuncFormatter(lambda x, _: f'{x:.1f}'))\n",
    "print(scores)\n",
    "plt.show()"
   ]
  },
  {
   "cell_type": "code",
   "execution_count": null,
   "metadata": {},
   "outputs": [],
   "source": [
    "Topic modelling wordcloud "
   ]
  },
  {
   "cell_type": "code",
   "execution_count": null,
   "metadata": {},
   "outputs": [],
   "source": [
    "import json\n",
    "import matplotlib.pyplot as plt\n",
    "from wordcloud import WordCloud\n",
    "\n",
    "# Read the JSON file\n",
    "with open('sentiment_topics.json', 'r') as file:\n",
    "    data = json.load(file)\n",
    "\n",
    "topics_data = ''\n",
    "\n",
    "for entry in data:\n",
    "    topics = entry.get('topics')\n",
    "    topics_string = ' '.join(topics)\n",
    "    topics_data += ' ' + topics_string\n",
    "\n",
    "print(topics_data)\n",
    "\n",
    "wordcloud = WordCloud(background_color=\"white\").generate(topics_data)\n",
    "\n",
    "plt.imshow(wordcloud, interpolation='bilinear')\n",
    "plt.axis(\"off\")\n",
    "plt.show()\n"
   ]
  }
 ],
 "metadata": {
  "language_info": {
   "name": "python"
  }
 },
 "nbformat": 4,
 "nbformat_minor": 2
}
